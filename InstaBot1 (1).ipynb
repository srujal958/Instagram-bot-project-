{
 "cells": [
  {
   "cell_type": "code",
   "execution_count": 127,
   "id": "5d873e6d",
   "metadata": {},
   "outputs": [],
   "source": [
    "from selenium import webdriver\n",
    "\n",
    "driver=webdriver.Chrome()"
   ]
  },
  {
   "cell_type": "code",
   "execution_count": 128,
   "id": "5fdc9f0f",
   "metadata": {},
   "outputs": [],
   "source": [
    "driver.get('https://www.instagram.com/')#link of the web site to be scraped"
   ]
  },
  {
   "cell_type": "code",
   "execution_count": 129,
   "id": "99315e4b",
   "metadata": {},
   "outputs": [
    {
     "name": "stdout",
     "output_type": "stream",
     "text": [
      "<selenium.webdriver.remote.webelement.WebElement (session=\"d6b9e9a26e7fabb547d36cdc6af58e8a\", element=\"e7a771a0-2d8e-47c1-aeec-cee8c4c521be\")> <selenium.webdriver.remote.webelement.WebElement (session=\"d6b9e9a26e7fabb547d36cdc6af58e8a\", element=\"bc03920b-c8ed-475b-839a-665232179e56\")>\n"
     ]
    }
   ],
   "source": [
    "from selenium.webdriver.common.by import By\n",
    "#locating the username and password block\n",
    "login=driver.find_element(By.CLASS_NAME, '_aa48')\n",
    "pas=driver.find_elements(By.CLASS_NAME, '_aa48')\n",
    "pas=pas[1]\n",
    "print(login,pas)"
   ]
  },
  {
   "cell_type": "code",
   "execution_count": 130,
   "id": "4c7230f8",
   "metadata": {},
   "outputs": [],
   "source": [
    "#PROVIDING THE LOGIN CREDENTIALS\n",
    "login.send_keys('SAMPLE USERNAME')\n",
    "pas.send_keys('SAMPLE PASSWORD')"
   ]
  },
  {
   "cell_type": "code",
   "execution_count": 131,
   "id": "68083925",
   "metadata": {},
   "outputs": [],
   "source": [
    "#SUBMITTING THE INFO\n",
    "pas.submit()"
   ]
  },
  {
   "cell_type": "code",
   "execution_count": 132,
   "id": "72d20d82",
   "metadata": {},
   "outputs": [],
   "source": [
    "#A CHECK BOX APPEARED TO SAVE THE LOGIN DETAILS AND I SELECTEC NO BUTTON\n",
    "btn=driver.find_elements(By.CLASS_NAME, '_acan')\n",
    "btn=btn[1]"
   ]
  },
  {
   "cell_type": "code",
   "execution_count": 133,
   "id": "680b8c18",
   "metadata": {},
   "outputs": [],
   "source": [
    "#CLICKED THE BUTTON\n",
    "btn.click()"
   ]
  },
  {
   "cell_type": "code",
   "execution_count": 134,
   "id": "a92b2a8d",
   "metadata": {},
   "outputs": [],
   "source": [
    "#ANOTHER CHECK BOX APPEARED ABOUT MESSAGES I SELECTED NO\n",
    "btn=driver.find_elements(By.CLASS_NAME, '_a9--')\n",
    "btn=btn[1]"
   ]
  },
  {
   "cell_type": "code",
   "execution_count": 135,
   "id": "675e2415",
   "metadata": {},
   "outputs": [],
   "source": [
    "btn.click()"
   ]
  },
  {
   "cell_type": "code",
   "execution_count": 20,
   "id": "7e8ad8d2",
   "metadata": {},
   "outputs": [],
   "source": [
    "#SEARCHED THE SEARCH BUTTON AND CLICKED ON IT\n",
    "sbtn=driver.find_elements(By.CLASS_NAME, 'x1i10hfl')\n",
    "sbtn[2].click()"
   ]
  },
  {
   "cell_type": "code",
   "execution_count": 40,
   "id": "39fbbef2",
   "metadata": {},
   "outputs": [],
   "source": []
  },
  {
   "cell_type": "code",
   "execution_count": 11,
   "id": "94b136a7",
   "metadata": {},
   "outputs": [
    {
     "data": {
      "text/plain": [
       "<selenium.webdriver.remote.webelement.WebElement (session=\"2ba3c5bec0c442f000159de0fe65fa55\", element=\"ada2af30-e5ad-4120-8127-903965b37cb6\")>"
      ]
     },
     "execution_count": 11,
     "metadata": {},
     "output_type": "execute_result"
    }
   ],
   "source": [
    "#FINDING THE SEARCH BOX\n",
    "search=driver.find_element(By.CLASS_NAME, '_aauy')\n",
    "search"
   ]
  },
  {
   "cell_type": "code",
   "execution_count": 12,
   "id": "3877ed6f",
   "metadata": {},
   "outputs": [],
   "source": [
    "#TYPING THE REQ SEARCH TEXT\n",
    "search.send_keys('food')"
   ]
  },
  {
   "cell_type": "code",
   "execution_count": 13,
   "id": "e2670801",
   "metadata": {},
   "outputs": [],
   "source": [
    "#REMOVINGS THE TAGS AND SOME OTHER UNWANTED IDS\n",
    "users=driver.find_elements(By.CLASS_NAME, '_aacw')\n",
    "users=users[:-28]"
   ]
  },
  {
   "cell_type": "code",
   "execution_count": 14,
   "id": "9125109b",
   "metadata": {},
   "outputs": [
    {
     "name": "stdout",
     "output_type": "stream",
     "text": [
      "Search\n",
      "food.fashion.drama\n",
      "foodalicious_foodies\n",
      "food_trove\n",
      "keurig_kiit_\n",
      "food.bynini_\n",
      "pepper_.pots\n",
      "travel_food_love__\n",
      "foodfindo\n",
      "ap_fooddiaries\n",
      "food_and_them_\n",
      "foodies_of_bhubaneswar\n",
      "food_heart09\n",
      "foodinodisha\n",
      "foodio_therapy\n",
      "cuttack_food_love\n",
      "foodpandits\n",
      "__.fusion.__food\n",
      "_cuttack_food_diaries_\n",
      "foodstories_27\n",
      "_.moodyfoody._\n",
      "freesoulfoodies\n",
      "_.the_foodies._\n",
      "memories_of_meals\n",
      "place_for_foodies_\n",
      "food_mehkma\n",
      "swaad_gwalior_ke\n",
      "_cuttack.diary_\n",
      "dilsefoodie\n",
      "foodgasm.bhilai\n",
      "punefoodiesoul\n",
      "foodie_ayush05\n",
      "foodiee_fitso_\n",
      "food_food_food_fooooood\n",
      "dfc_dadabiryani\n",
      "foodiebyheart2.0\n",
      "theedibletripper\n",
      "_food.corner_29\n",
      "odiafoodfeeds\n",
      "food.moitro\n",
      "street_food_chandigarh\n",
      "foodestia\n",
      "food_fotu_fantasy\n",
      "foodies_odisha\n",
      "food_fiesta___\n",
      "food_b.a.e\n",
      "cuttack_food_point\n",
      "food_raasta\n",
      "foodie_odisha_\n",
      "Food Mantra, Odisha\n",
      "mr_.foodie._0_1\n",
      "foodncate\n",
      "idiotic_sperm\n",
      "_bikasshhh._\n",
      "25,313 others\n",
      "idiotic_sperm\n",
      "23h_left_123\n",
      "Post\n",
      "haikyuuangels\n"
     ]
    }
   ],
   "source": [
    "#FINDING ALL THE USERS AND PRINTING THEIR NAMES\n",
    "for i in users:\n",
    "    s=str(i.text)\n",
    "    if(len(s)==0):\n",
    "        continue\n",
    "    else:\n",
    "        if s[0]!=\"#\":\n",
    "            print(s)"
   ]
  },
  {
   "cell_type": "code",
   "execution_count": 15,
   "id": "536044e5",
   "metadata": {},
   "outputs": [],
   "source": [
    "#CLEARING THE SEARCH\n",
    "search.clear()"
   ]
  },
  {
   "cell_type": "code",
   "execution_count": 21,
   "id": "6ed4049d",
   "metadata": {},
   "outputs": [
    {
     "data": {
      "text/plain": [
       "<selenium.webdriver.remote.webelement.WebElement (session=\"2ba3c5bec0c442f000159de0fe65fa55\", element=\"f2573f19-b7d7-4836-9d98-a5c961ede471\")>"
      ]
     },
     "execution_count": 21,
     "metadata": {},
     "output_type": "execute_result"
    }
   ],
   "source": [
    "search=driver.find_element(By.CLASS_NAME, '_aauy')\n",
    "search"
   ]
  },
  {
   "cell_type": "code",
   "execution_count": 22,
   "id": "484d003b",
   "metadata": {},
   "outputs": [],
   "source": [
    "#NEW SEARCH\n",
    "search.send_keys('So Delhi')"
   ]
  },
  {
   "cell_type": "code",
   "execution_count": 32,
   "id": "fbf2852b",
   "metadata": {},
   "outputs": [
    {
     "data": {
      "text/plain": [
       "<selenium.webdriver.remote.webelement.WebElement (session=\"2ba3c5bec0c442f000159de0fe65fa55\", element=\"782e39dd-f425-480d-903a-b2147f3244a2\")>"
      ]
     },
     "execution_count": 32,
     "metadata": {},
     "output_type": "execute_result"
    }
   ],
   "source": [
    "#CLICKING ON THE ID THAT WE WANT TO SCRAPE\n",
    "cl=driver.find_element(By.CLASS_NAME, '_aarf')\n",
    "cl"
   ]
  },
  {
   "cell_type": "code",
   "execution_count": 33,
   "id": "cd7adbb1",
   "metadata": {},
   "outputs": [],
   "source": [
    "cl.click()"
   ]
  },
  {
   "cell_type": "code",
   "execution_count": 90,
   "id": "63f96373",
   "metadata": {},
   "outputs": [],
   "source": [
    "#SEARCHING THE FOLLOW BUTTON AND THEN FOLLOWED THE ID\n",
    "follow=driver.find_element(By.CLASS_NAME, '_acan')"
   ]
  },
  {
   "cell_type": "code",
   "execution_count": 91,
   "id": "cc9c90d6",
   "metadata": {},
   "outputs": [],
   "source": [
    "follow.click()"
   ]
  },
  {
   "cell_type": "code",
   "execution_count": 92,
   "id": "6bdc9f30",
   "metadata": {},
   "outputs": [],
   "source": [
    "#UNFOLLOW CANT BE DONE ON PC\n",
    "#follow=driver.find_element(By.CLASS_NAME, '_acan')\n",
    "#follow.click()"
   ]
  },
  {
   "cell_type": "code",
   "execution_count": 63,
   "id": "54082c44",
   "metadata": {},
   "outputs": [],
   "source": [
    "driver.back()"
   ]
  },
  {
   "cell_type": "code",
   "execution_count": 136,
   "id": "ffd8a55e",
   "metadata": {},
   "outputs": [],
   "source": [
    "search=driver.find_elements(By.CLASS_NAME, 'x1i10hfl')\n",
    "search[2].click()"
   ]
  },
  {
   "cell_type": "code",
   "execution_count": 137,
   "id": "aa5396f1",
   "metadata": {},
   "outputs": [],
   "source": [
    "search=driver.find_element(By.CLASS_NAME, '_aauy')"
   ]
  },
  {
   "cell_type": "code",
   "execution_count": 138,
   "id": "eabf3d57",
   "metadata": {},
   "outputs": [],
   "source": [
    "#NEW SEARCH\n",
    "search.send_keys('dilsefoodie')"
   ]
  },
  {
   "cell_type": "code",
   "execution_count": 139,
   "id": "d67ad876",
   "metadata": {},
   "outputs": [],
   "source": [
    "cl=driver.find_element(By.CLASS_NAME, '_aarf')"
   ]
  },
  {
   "cell_type": "code",
   "execution_count": 140,
   "id": "51f8ce97",
   "metadata": {},
   "outputs": [],
   "source": [
    "cl.click()"
   ]
  },
  {
   "cell_type": "code",
   "execution_count": 150,
   "id": "20e58410",
   "metadata": {},
   "outputs": [
    {
     "data": {
      "text/plain": [
       "(['https://www.instagram.com/p/ClOEaKloSqf/',\n",
       "  'https://www.instagram.com/p/ClIpBi1oytH/',\n",
       "  'https://www.instagram.com/p/ClD_qvjKzWm/',\n",
       "  'https://www.instagram.com/p/ClDVGLrK0iD/',\n",
       "  'https://www.instagram.com/p/ClBFqoSI6YY/',\n",
       "  'https://www.instagram.com/p/Ck-sLTTIbB9/',\n",
       "  'https://www.instagram.com/p/Ck7nEEPqjfv/',\n",
       "  'https://www.instagram.com/p/Ck5wEyvICyO/',\n",
       "  'https://www.instagram.com/p/Ck5DdYqon57/',\n",
       "  'https://www.instagram.com/p/Ck0l1BcKHno/',\n",
       "  'https://www.instagram.com/p/Ckx01RhIbRv/',\n",
       "  'https://www.instagram.com/p/CkvkzsmoRmq/',\n",
       "  'https://www.instagram.com/p/CkvS87GoPRB/',\n",
       "  'https://www.instagram.com/p/CksW_9_Ikeu/',\n",
       "  'https://www.instagram.com/p/CksKglkoKxf/',\n",
       "  'https://www.instagram.com/p/Ckqa8wzpPVy/',\n",
       "  'https://www.instagram.com/p/CkqGWB1qnQs/',\n",
       "  'https://www.instagram.com/p/Cki00-aIMpW/',\n",
       "  'https://www.instagram.com/p/Ckh_be7qZoF/',\n",
       "  'https://www.instagram.com/p/CkgCA8cK6Cv/',\n",
       "  'https://www.instagram.com/p/CkdKChwIrk9/',\n",
       "  'https://www.instagram.com/p/CkZ3Oh-IoUz/',\n",
       "  'https://www.instagram.com/p/CkTFOL0KAVP/',\n",
       "  'https://www.instagram.com/p/CkQyk1KIrk_/'],\n",
       " 40)"
      ]
     },
     "execution_count": 150,
     "metadata": {},
     "output_type": "execute_result"
    }
   ],
   "source": [
    "#GETTING THE LINKS OF ALL THE POSTS AND STORED IT IN AN ARRAY\n",
    "postcl=driver.find_elements(By.CLASS_NAME, 'x1iyjqo2')\n",
    "c1=postcl[3].find_elements(By.CLASS_NAME, '_a6hd')\n",
    "urls=[]\n",
    "for i in c1:\n",
    "    urls.append(i.get_attribute('href'))\n",
    "urls"
   ]
  },
  {
   "cell_type": "code",
   "execution_count": 154,
   "id": "f2b76505",
   "metadata": {},
   "outputs": [],
   "source": [
    "#WENT TO EACH URL AND LIKE THE FIRST 30 POSTS AND THEN UNLIKED IT\n",
    "c=0\n",
    "for i in urls:\n",
    "    if c==30:\n",
    "        break\n",
    "    driver.get(i)\n",
    "    driver.implicitly_wait(5)\n",
    "    like=driver.find_element(By.CLASS_NAME,'_aamw')\n",
    "    like=like.find_element(By.TAG_NAME,'button')\n",
    "    like.click()\n",
    "    driver.back()\n",
    "    driver.implicitly_wait(5)\n",
    "    c+=1"
   ]
  },
  {
   "cell_type": "code",
   "execution_count": 155,
   "id": "b27ee3d5",
   "metadata": {},
   "outputs": [],
   "source": [
    "#GOING BACK TO THE PREVIOUS PAGE\n",
    "driver.back()"
   ]
  },
  {
   "cell_type": "code",
   "execution_count": 156,
   "id": "6e0fc9a7",
   "metadata": {},
   "outputs": [],
   "source": [
    "search=driver.find_elements(By.CLASS_NAME, 'x1i10hfl')\n",
    "search[2].click()"
   ]
  },
  {
   "cell_type": "code",
   "execution_count": 157,
   "id": "0798d143",
   "metadata": {},
   "outputs": [],
   "source": [
    "search=driver.find_element(By.CLASS_NAME, '_aauy')"
   ]
  },
  {
   "cell_type": "code",
   "execution_count": 158,
   "id": "e7f167c5",
   "metadata": {},
   "outputs": [],
   "source": [
    "#NEW SEARCH\n",
    "search.send_keys('foodtalkindia')"
   ]
  },
  {
   "cell_type": "code",
   "execution_count": 159,
   "id": "180dda40",
   "metadata": {},
   "outputs": [],
   "source": [
    "cl=driver.find_element(By.CLASS_NAME, '_aarf')"
   ]
  },
  {
   "cell_type": "code",
   "execution_count": 160,
   "id": "9c0338b2",
   "metadata": {},
   "outputs": [],
   "source": [
    "cl.click()"
   ]
  },
  {
   "cell_type": "code",
   "execution_count": 181,
   "id": "650c0675",
   "metadata": {},
   "outputs": [
    {
     "data": {
      "text/plain": [
       "'https://www.instagram.com/foodtalkindia/followers/'"
      ]
     },
     "execution_count": 181,
     "metadata": {},
     "output_type": "execute_result"
    }
   ],
   "source": [
    "#LOCATING THE FOLLOWERS BUTTON\n",
    "followers_button=driver.find_elements(By.CLASS_NAME, 'xl565be')\n",
    "a=followers_button[1].find_element(By.TAG_NAME, 'a')\n",
    "link=a.get_attribute('href')\n",
    "link"
   ]
  },
  {
   "cell_type": "code",
   "execution_count": 182,
   "id": "3534b75d",
   "metadata": {},
   "outputs": [],
   "source": [
    "#SCRAPING THE FOLLOWERS LINK\n",
    "driver.get(link)"
   ]
  },
  {
   "cell_type": "code",
   "execution_count": 229,
   "id": "5d83ed12",
   "metadata": {},
   "outputs": [
    {
     "data": {
      "text/plain": [
       "'kali.a2287'"
      ]
     },
     "execution_count": 229,
     "metadata": {},
     "output_type": "execute_result"
    }
   ],
   "source": [
    "#TEST CODE FOR ACCESSING THE USERNAME\n",
    "followers=driver.find_element(By.CLASS_NAME, '_aano')\n",
    "follow=followers.find_elements(By.CLASS_NAME, '_ab9-')"
   ]
  },
  {
   "cell_type": "code",
   "execution_count": 230,
   "id": "81f735b5",
   "metadata": {},
   "outputs": [
    {
     "name": "stdout",
     "output_type": "stream",
     "text": [
      "kali.a2287\n",
      "vivekjamucha\n",
      "yuktigrover__\n",
      "*\n",
      "varun_____aa\n",
      "_ ★꧁༒•kunal•༒꧂\n",
      "_usman_dx_tara_yaar\n",
      "_mohd_ Usman_ rangrej\n",
      "jungskookie_97\n",
      "_•Candyhearts•_\n",
      "aamer2118\n",
      "aamer Qureshi\n",
      "fanta_sticallyme\n",
      "Aditya 🙂\n",
      "abinjrajka\n",
      "Akansha Binjrajka\n",
      "anand_mohan\n",
      "Anand Mohan\n",
      "___anant___03\n",
      "Anant\n",
      "ashishkotawala\n",
      "Ashish Goyal\n",
      "windowseatdog\n",
      "Avleen Kaur Lamba\n",
      "cheflinkequipment\n",
      "Chef Link\n",
      "coolsprks\n",
      "Coolsprks\n",
      "_donutfactory_\n",
      "Donut Factory\n",
      "lolwah_real_estate\n",
      "Dubai Real Estate 💚🇸🇦💚\n",
      "eco_cosmos\n",
      "ECO COSMOS\n",
      "fameela_meeran\n",
      "fameela meeran\n",
      "food_fudge\n",
      "Faraz\n",
      "naninani26008\n",
      "Gul Firdosh\n",
      "heyitscrazyhere\n",
      "heyitscrazyhere\n",
      "ishaan.pandey\n",
      "Ishaan Pandey\n",
      "jesusimmanuel13579\n",
      "Jesus Immanuel\n",
      "kapilas.das.12\n",
      "Kapilas Das\n",
      "bharadwaj.karan\n",
      "Karan Bharadwaj\n",
      "manojsethi65\n",
      "Manoj Sethi\n",
      "mayank_chadha\n",
      "Mayank Chadha\n",
      "meghapari\n",
      "Meghapari💕🧿\n",
      "miraalvialvi\n",
      "Mira Alvi Alvi\n",
      "mitulshah91\n",
      "Mitul Shah\n",
      "nanditagaur05\n",
      "Nandita Gaur\n",
      "devganpooja\n",
      "Pooja Devgan\n",
      "richashukla10\n",
      "Richa Shukla\n",
      "rupesh.jaiswal.rj\n",
      "Rupesh Jaiswal\n",
      "gsk_silentkiller\n",
      "Sai Krishna Gsk Edits\n",
      "its_sayali_13\n",
      "Sayali Patil🌸\n",
      "solankisachin172\n",
      "Solanki Sachin\n",
      "soundarya9877\n",
      "soundarya\n",
      "srishtichimnani\n",
      "Srishti Chimnani\n",
      "subhenduchandrasaha\n",
      "Subhendu Chandra Saha\n",
      "urvaz_k\n",
      "URVAZ\n",
      "pillayviki\n",
      "Viju Pillay\n",
      "yamini.s.m\n",
      "Yamini S M\n",
      "yashikadewan_itzme12\n",
      "Yashika Dewan\n",
      "shikha.s__00\n",
      "शिखा 🦋\n",
      "esha__mali__\n",
      "এষা মালি ✨\n",
      "thoavootsqa\n",
      "吉村めい\n",
      "official_ankit78600\n",
      "🇦‌🇳‌🇰‌🇮‌🇹‌\n"
     ]
    }
   ],
   "source": [
    "#PRINTING THE NAME OF ALL THE FOLLOWERS\n",
    "for i in follow:\n",
    "    s=i.find_element(By.CLASS_NAME, '_ab9o').text\n",
    "    print(s)\n",
    "#BY DEFAULT INSTAGRAM ALLOWS ONLY TO VIEW SOME OF THE USERS AND DOESNT ALLOW TO VIEW ALL THE FOLLOWERS \n",
    "#no common followers"
   ]
  },
  {
   "cell_type": "code",
   "execution_count": 234,
   "id": "af44a4c2",
   "metadata": {},
   "outputs": [],
   "source": [
    "driver.back()"
   ]
  },
  {
   "cell_type": "code",
   "execution_count": 238,
   "id": "7facd60c",
   "metadata": {},
   "outputs": [],
   "source": [
    "search=driver.find_elements(By.CLASS_NAME, 'x1i10hfl')\n",
    "search[2].click()"
   ]
  },
  {
   "cell_type": "code",
   "execution_count": 239,
   "id": "5eaf4529",
   "metadata": {},
   "outputs": [],
   "source": [
    "search=driver.find_element(By.CLASS_NAME, '_aauy')"
   ]
  },
  {
   "cell_type": "code",
   "execution_count": 240,
   "id": "828978a0",
   "metadata": {},
   "outputs": [],
   "source": [
    "#NEW SEARCH\n",
    "search.send_keys('coding.ninjas')"
   ]
  },
  {
   "cell_type": "code",
   "execution_count": 241,
   "id": "389869b7",
   "metadata": {},
   "outputs": [],
   "source": [
    "#THIS PROCESS CAN BE USED FOR BOTH CASES WHEN STORY IS VIEWED AND EVEN WHEN THE STORY IS NOT VIEWED AND IF THERE IS NO STORY\n",
    "#THEN WE CANNOT VIEW IT\n",
    "cl=driver.find_element(By.CLASS_NAME, '_aarf')"
   ]
  },
  {
   "cell_type": "code",
   "execution_count": 242,
   "id": "7cf96db4",
   "metadata": {},
   "outputs": [],
   "source": [
    "cl.click()"
   ]
  }
 ],
 "metadata": {
  "kernelspec": {
   "display_name": "Python 3 (ipykernel)",
   "language": "python",
   "name": "python3"
  },
  "language_info": {
   "codemirror_mode": {
    "name": "ipython",
    "version": 3
   },
   "file_extension": ".py",
   "mimetype": "text/x-python",
   "name": "python",
   "nbconvert_exporter": "python",
   "pygments_lexer": "ipython3",
   "version": "3.9.7"
  }
 },
 "nbformat": 4,
 "nbformat_minor": 5
}
